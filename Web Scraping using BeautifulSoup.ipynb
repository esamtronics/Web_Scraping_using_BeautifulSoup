{
 "cells": [
  {
   "cell_type": "markdown",
   "metadata": {},
   "source": [
    "# Web Scraping\n"
   ]
  },
  {
   "cell_type": "markdown",
   "metadata": {},
   "source": [
    "## Objective\n",
    "\n",
    "Extracting `Data Engineers jobs` on [Wuzzuf](https://wuzzuf.net/search/jobs/?q=data+engineer&a=hpb), using `BeautifulSoup` library to extract informations from web pages."
   ]
  },
  {
   "cell_type": "markdown",
   "metadata": {},
   "source": [
    "## Importing libraries\n",
    "\n",
    "Import any additional libraries we will need.\n"
   ]
  },
  {
   "cell_type": "code",
   "execution_count": 1,
   "metadata": {},
   "outputs": [],
   "source": [
    "from bs4 import BeautifulSoup\n",
    "import csv\n",
    "import requests\n",
    "from itertools import zip_longest\n",
    "import pandas as pd"
   ]
  },
  {
   "cell_type": "markdown",
   "metadata": {},
   "source": [
    "### Webpage Contents\n",
    "\n",
    "Gather the contents of the webpage in text format using the `requests` library and assign it to the variable `link`, and store the content of the page in `src`\n"
   ]
  },
  {
   "cell_type": "code",
   "execution_count": 2,
   "metadata": {},
   "outputs": [],
   "source": [
    "link = requests.get(\"https://wuzzuf.net/search/jobs/?q=data+engineer&a=hpb\")\n",
    "src = link.content"
   ]
  },
  {
   "cell_type": "markdown",
   "metadata": {
    "tags": []
   },
   "source": [
    "### Scraping the Data\n",
    "\n",
    "Using `BeautifulSoup` parse the contents of the webpage in `soup` object\n"
   ]
  },
  {
   "cell_type": "code",
   "execution_count": 3,
   "metadata": {},
   "outputs": [],
   "source": [
    "soup = BeautifulSoup(src, 'lxml')"
   ]
  },
  {
   "cell_type": "markdown",
   "metadata": {},
   "source": [
    "Find the information we need in the tags using `soup` object, using the value of the class that identifies each part of the information\n"
   ]
  },
  {
   "cell_type": "code",
   "execution_count": 4,
   "metadata": {},
   "outputs": [],
   "source": [
    "job_titles = soup.find_all(\"h2\" , {\"class\" : \"css-m604qf\"})\n",
    "company_names = soup.find_all(\"a\" , {\"class\" : \"css-17s97q8\"})\n",
    "locations = soup.find_all(\"span\" , {\"class\" : \"css-5wys0k\"})\n",
    "job_skills = soup.find_all(\"div\" , {\"class\" : \"css-y4udm8\"})"
   ]
  },
  {
   "cell_type": "markdown",
   "metadata": {},
   "source": [
    "Creating an empty lists to store the specific information"
   ]
  },
  {
   "cell_type": "code",
   "execution_count": 5,
   "metadata": {},
   "outputs": [],
   "source": [
    "job_title = []\n",
    "company_name = []\n",
    "location = []\n",
    "skills = []\n",
    "links = []\n",
    "full_links = []"
   ]
  },
  {
   "cell_type": "markdown",
   "metadata": {},
   "source": [
    "Looping through the data to extract the specific `text` we need as the final result"
   ]
  },
  {
   "cell_type": "code",
   "execution_count": 6,
   "metadata": {},
   "outputs": [],
   "source": [
    "for i in range(len(job_titles)):\n",
    "    job_title.append(job_titles[i].text)\n",
    "    company_name.append(company_names[i].text)\n",
    "    location.append(locations[i].text)\n",
    "    skills.append(job_skills[i].text)\n",
    "    links.append(job_titles[i].find(\"a\").attrs['href'])"
   ]
  },
  {
   "cell_type": "markdown",
   "metadata": {},
   "source": [
    "The extracted part of links is look like missing the first part of the web page `https://wuzzuf.net`\n",
    "\n",
    "So, we will loop through `links` to add the missing part of the link, and store it in `full_links`"
   ]
  },
  {
   "cell_type": "code",
   "execution_count": 7,
   "metadata": {},
   "outputs": [],
   "source": [
    "for link in links:\n",
    "    full_links.append(\"https://wuzzuf.net\" + link)"
   ]
  },
  {
   "cell_type": "markdown",
   "metadata": {
    "tags": []
   },
   "source": [
    "\n",
    "### Loading the Data\n",
    "\n"
   ]
  },
  {
   "cell_type": "markdown",
   "metadata": {},
   "source": [
    "Because each column of the data is loaded in horizontal way in the table, we will use `zip_longest` iterator (one of the `itertools` library) to make an iterator that aggregates elements from each of the iterables"
   ]
  },
  {
   "cell_type": "code",
   "execution_count": 8,
   "metadata": {},
   "outputs": [],
   "source": [
    "file_list = [job_title , company_name, location, skills, full_links]\n",
    "exported = zip_longest(*file_list)"
   ]
  },
  {
   "cell_type": "markdown",
   "metadata": {},
   "source": [
    "## Saving the data"
   ]
  },
  {
   "cell_type": "markdown",
   "metadata": {},
   "source": [
    "Using `csv` library to store the data inside a csv file"
   ]
  },
  {
   "cell_type": "code",
   "execution_count": 9,
   "metadata": {},
   "outputs": [],
   "source": [
    "with open(\"/resources/labs/PY0221EN/Webscraping/Data_Engineering_Jobs.csv\",\"w\") as myfile :\n",
    "    wr = csv.writer(myfile)\n",
    "    wr.writerow([\"Job Title\", \"Company\" , \"Location\" , \"Skills\", \"Links\"])\n",
    "    wr.writerows(exported)"
   ]
  },
  {
   "cell_type": "markdown",
   "metadata": {},
   "source": [
    " "
   ]
  },
  {
   "cell_type": "markdown",
   "metadata": {},
   "source": [
    "## Display the final scraped data"
   ]
  },
  {
   "cell_type": "code",
   "execution_count": 10,
   "metadata": {},
   "outputs": [
    {
     "data": {
      "text/html": [
       "<div>\n",
       "<style scoped>\n",
       "    .dataframe tbody tr th:only-of-type {\n",
       "        vertical-align: middle;\n",
       "    }\n",
       "\n",
       "    .dataframe tbody tr th {\n",
       "        vertical-align: top;\n",
       "    }\n",
       "\n",
       "    .dataframe thead th {\n",
       "        text-align: right;\n",
       "    }\n",
       "</style>\n",
       "<table border=\"1\" class=\"dataframe\">\n",
       "  <thead>\n",
       "    <tr style=\"text-align: right;\">\n",
       "      <th></th>\n",
       "      <th>Job Title</th>\n",
       "      <th>Company</th>\n",
       "      <th>Location</th>\n",
       "      <th>Skills</th>\n",
       "      <th>Links</th>\n",
       "    </tr>\n",
       "  </thead>\n",
       "  <tbody>\n",
       "    <tr>\n",
       "      <th>0</th>\n",
       "      <td>Data Security Engineer</td>\n",
       "      <td>Misr International Systems -</td>\n",
       "      <td>Giza, Egypt</td>\n",
       "      <td>Full TimeExperienced · 3+ Yrs of Exp · IT/Soft...</td>\n",
       "      <td>https://wuzzuf.net/jobs/p/GC4dKxWYuvyF-Data-Se...</td>\n",
       "    </tr>\n",
       "    <tr>\n",
       "      <th>1</th>\n",
       "      <td>Data Center Engineer</td>\n",
       "      <td>Perfect Presentation -</td>\n",
       "      <td>6th of October, Giza, Egypt</td>\n",
       "      <td>Full TimeExperienced · 5+ Yrs of Exp · IT/Soft...</td>\n",
       "      <td>https://wuzzuf.net/jobs/p/7zgMraWuoxvn-Data-Ce...</td>\n",
       "    </tr>\n",
       "    <tr>\n",
       "      <th>2</th>\n",
       "      <td>ETL Developer (Data Engineer)</td>\n",
       "      <td>siParadigm Egypt -</td>\n",
       "      <td>Sheraton, Cairo, Egypt</td>\n",
       "      <td>Full TimeEntry Level · 1 - 3 Yrs of Exp · IT/S...</td>\n",
       "      <td>https://wuzzuf.net/jobs/p/45nIdFIB6hGN-ETL-Dev...</td>\n",
       "    </tr>\n",
       "    <tr>\n",
       "      <th>3</th>\n",
       "      <td>Data Engineer</td>\n",
       "      <td>Centro CDX -</td>\n",
       "      <td>Maadi, Cairo, Egypt</td>\n",
       "      <td>Full TimeExperienced · 3+ Yrs of Exp · IT/Soft...</td>\n",
       "      <td>https://wuzzuf.net/jobs/p/YgnlNerNUQml-Data-En...</td>\n",
       "    </tr>\n",
       "    <tr>\n",
       "      <th>4</th>\n",
       "      <td>ETL Developer (Data Engineer)</td>\n",
       "      <td>Confidential -</td>\n",
       "      <td>New Cairo, Cairo, Egypt</td>\n",
       "      <td>Full TimeEntry Level · 1 - 3 Yrs of Exp · IT/S...</td>\n",
       "      <td>https://wuzzuf.net/jobs/p/lh2XUX458sAE-ETL-Dev...</td>\n",
       "    </tr>\n",
       "  </tbody>\n",
       "</table>\n",
       "</div>"
      ],
      "text/plain": [
       "                       Job Title                       Company  \\\n",
       "0         Data Security Engineer  Misr International Systems -   \n",
       "1           Data Center Engineer        Perfect Presentation -   \n",
       "2  ETL Developer (Data Engineer)            siParadigm Egypt -   \n",
       "3                  Data Engineer                  Centro CDX -   \n",
       "4  ETL Developer (Data Engineer)                Confidential -   \n",
       "\n",
       "                       Location  \\\n",
       "0                  Giza, Egypt    \n",
       "1  6th of October, Giza, Egypt    \n",
       "2       Sheraton, Cairo, Egypt    \n",
       "3          Maadi, Cairo, Egypt    \n",
       "4      New Cairo, Cairo, Egypt    \n",
       "\n",
       "                                              Skills  \\\n",
       "0  Full TimeExperienced · 3+ Yrs of Exp · IT/Soft...   \n",
       "1  Full TimeExperienced · 5+ Yrs of Exp · IT/Soft...   \n",
       "2  Full TimeEntry Level · 1 - 3 Yrs of Exp · IT/S...   \n",
       "3  Full TimeExperienced · 3+ Yrs of Exp · IT/Soft...   \n",
       "4  Full TimeEntry Level · 1 - 3 Yrs of Exp · IT/S...   \n",
       "\n",
       "                                               Links  \n",
       "0  https://wuzzuf.net/jobs/p/GC4dKxWYuvyF-Data-Se...  \n",
       "1  https://wuzzuf.net/jobs/p/7zgMraWuoxvn-Data-Ce...  \n",
       "2  https://wuzzuf.net/jobs/p/45nIdFIB6hGN-ETL-Dev...  \n",
       "3  https://wuzzuf.net/jobs/p/YgnlNerNUQml-Data-En...  \n",
       "4  https://wuzzuf.net/jobs/p/lh2XUX458sAE-ETL-Dev...  "
      ]
     },
     "execution_count": 10,
     "metadata": {},
     "output_type": "execute_result"
    }
   ],
   "source": [
    "final_result = pd.read_csv(\"Data_Engineering_Jobs.csv\")\n",
    "final_result.head()"
   ]
  },
  {
   "cell_type": "markdown",
   "metadata": {},
   "source": [
    " "
   ]
  },
  {
   "cell_type": "markdown",
   "metadata": {},
   "source": [
    "| Made by | E-Mail | LinkedIn        | Github                 |\n",
    "| ----------------- | ------- | ----------------- | ---------------------------------- |\n",
    "| Mohamed Essam        | mohamed.esam3105@gmail.com     | [Profile](https://www.linkedin.com/in/esamtronics) | [Repositories](https://github.com/esamtronics?tab=repositories) |\n"
   ]
  }
 ],
 "metadata": {
  "kernelspec": {
   "display_name": "Python",
   "language": "python",
   "name": "conda-env-python-py"
  },
  "language_info": {
   "codemirror_mode": {
    "name": "ipython",
    "version": 3
   },
   "file_extension": ".py",
   "mimetype": "text/x-python",
   "name": "python",
   "nbconvert_exporter": "python",
   "pygments_lexer": "ipython3",
   "version": "3.7.12"
  }
 },
 "nbformat": 4,
 "nbformat_minor": 4
}
